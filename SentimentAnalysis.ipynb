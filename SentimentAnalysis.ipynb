{
 "cells": [
  {
   "cell_type": "code",
   "execution_count": 65,
   "id": "3a2fc992",
   "metadata": {},
   "outputs": [
    {
     "data": {
      "application/javascript": [
       "IPython.notebook.set_autosave_interval(1000)"
      ]
     },
     "metadata": {},
     "output_type": "display_data"
    },
    {
     "name": "stdout",
     "output_type": "stream",
     "text": [
      "Autosaving every 1 seconds\n"
     ]
    }
   ],
   "source": [
    "%autosave 1"
   ]
  },
  {
   "cell_type": "code",
   "execution_count": 66,
   "id": "eeaff7fe",
   "metadata": {},
   "outputs": [
    {
     "name": "stdout",
     "output_type": "stream",
     "text": [
      "/Users/mirfarhanali/Desktop/NLP\r\n"
     ]
    }
   ],
   "source": [
    "!pwd"
   ]
  },
  {
   "cell_type": "code",
   "execution_count": 67,
   "id": "89f0c17d",
   "metadata": {},
   "outputs": [
    {
     "name": "stdout",
     "output_type": "stream",
     "text": [
      "Requirement already satisfied: ml_datasets in /Users/mirfarhanali/opt/anaconda3/lib/python3.9/site-packages (0.2.0)\r\n",
      "Requirement already satisfied: tqdm<5.0.0,>=4.10.0 in /Users/mirfarhanali/opt/anaconda3/lib/python3.9/site-packages (from ml_datasets) (4.64.0)\r\n",
      "Requirement already satisfied: srsly<3.0.0,>=1.0.1 in /Users/mirfarhanali/opt/anaconda3/lib/python3.9/site-packages (from ml_datasets) (2.4.4)\r\n",
      "Requirement already satisfied: numpy>=1.7.0 in /Users/mirfarhanali/opt/anaconda3/lib/python3.9/site-packages (from ml_datasets) (1.21.5)\r\n",
      "Requirement already satisfied: catalogue<3.0.0,>=0.2.0 in /Users/mirfarhanali/opt/anaconda3/lib/python3.9/site-packages (from ml_datasets) (2.0.8)\r\n"
     ]
    }
   ],
   "source": [
    "!pip install ml_datasets"
   ]
  },
  {
   "cell_type": "code",
   "execution_count": 68,
   "id": "9d3329cc",
   "metadata": {},
   "outputs": [],
   "source": [
    "from ml_datasets import imdb\n",
    "train_data, valid_data = imdb()"
   ]
  },
  {
   "cell_type": "code",
   "execution_count": 69,
   "id": "17c11f82",
   "metadata": {},
   "outputs": [],
   "source": [
    "import spacy\n",
    "from spacy.tokens import DocBin\n",
    "from tqdm import tqdm\n",
    "import pandas as pd \n",
    "import matplotlib.pyplot \n",
    "import seaborn as sns \n",
    "sns.set(style =\"darkgrid\")\n",
    "sns.set(font_scale = 1.3)"
   ]
  },
  {
   "cell_type": "code",
   "execution_count": 70,
   "id": "7454cf25",
   "metadata": {},
   "outputs": [],
   "source": [
    "df = pd.read_csv('train.csv')"
   ]
  },
  {
   "cell_type": "code",
   "execution_count": 71,
   "id": "3e50048c",
   "metadata": {},
   "outputs": [
    {
     "data": {
      "text/html": [
       "<div>\n",
       "<style scoped>\n",
       "    .dataframe tbody tr th:only-of-type {\n",
       "        vertical-align: middle;\n",
       "    }\n",
       "\n",
       "    .dataframe tbody tr th {\n",
       "        vertical-align: top;\n",
       "    }\n",
       "\n",
       "    .dataframe thead th {\n",
       "        text-align: right;\n",
       "    }\n",
       "</style>\n",
       "<table border=\"1\" class=\"dataframe\">\n",
       "  <thead>\n",
       "    <tr style=\"text-align: right;\">\n",
       "      <th></th>\n",
       "      <th>review_id</th>\n",
       "      <th>title</th>\n",
       "      <th>year</th>\n",
       "      <th>user_review</th>\n",
       "      <th>user_suggestion</th>\n",
       "    </tr>\n",
       "  </thead>\n",
       "  <tbody>\n",
       "    <tr>\n",
       "      <th>0</th>\n",
       "      <td>1</td>\n",
       "      <td>Spooky's Jump Scare Mansion</td>\n",
       "      <td>2016.0</td>\n",
       "      <td>I'm scared and hearing creepy voices.  So I'll...</td>\n",
       "      <td>1</td>\n",
       "    </tr>\n",
       "    <tr>\n",
       "      <th>1</th>\n",
       "      <td>2</td>\n",
       "      <td>Spooky's Jump Scare Mansion</td>\n",
       "      <td>2016.0</td>\n",
       "      <td>Best game, more better than Sam Pepper's YouTu...</td>\n",
       "      <td>1</td>\n",
       "    </tr>\n",
       "    <tr>\n",
       "      <th>2</th>\n",
       "      <td>3</td>\n",
       "      <td>Spooky's Jump Scare Mansion</td>\n",
       "      <td>2016.0</td>\n",
       "      <td>A littly iffy on the controls, but once you kn...</td>\n",
       "      <td>1</td>\n",
       "    </tr>\n",
       "    <tr>\n",
       "      <th>3</th>\n",
       "      <td>4</td>\n",
       "      <td>Spooky's Jump Scare Mansion</td>\n",
       "      <td>2015.0</td>\n",
       "      <td>Great game, fun and colorful and all that.A si...</td>\n",
       "      <td>1</td>\n",
       "    </tr>\n",
       "    <tr>\n",
       "      <th>4</th>\n",
       "      <td>5</td>\n",
       "      <td>Spooky's Jump Scare Mansion</td>\n",
       "      <td>2015.0</td>\n",
       "      <td>Not many games have the cute tag right next to...</td>\n",
       "      <td>1</td>\n",
       "    </tr>\n",
       "    <tr>\n",
       "      <th>5</th>\n",
       "      <td>6</td>\n",
       "      <td>Spooky's Jump Scare Mansion</td>\n",
       "      <td>2015.0</td>\n",
       "      <td>Early Access ReviewIt's pretty cute at first, ...</td>\n",
       "      <td>1</td>\n",
       "    </tr>\n",
       "    <tr>\n",
       "      <th>6</th>\n",
       "      <td>7</td>\n",
       "      <td>Spooky's Jump Scare Mansion</td>\n",
       "      <td>2017.0</td>\n",
       "      <td>Great game. it's a cute little horror game tha...</td>\n",
       "      <td>1</td>\n",
       "    </tr>\n",
       "    <tr>\n",
       "      <th>7</th>\n",
       "      <td>8</td>\n",
       "      <td>Spooky's Jump Scare Mansion</td>\n",
       "      <td>2015.0</td>\n",
       "      <td>Spooky's Jump Scare Mansion is a Free Retro ma...</td>\n",
       "      <td>1</td>\n",
       "    </tr>\n",
       "    <tr>\n",
       "      <th>8</th>\n",
       "      <td>9</td>\n",
       "      <td>Spooky's Jump Scare Mansion</td>\n",
       "      <td>2015.0</td>\n",
       "      <td>Somewhere between light hearted, happy parody ...</td>\n",
       "      <td>0</td>\n",
       "    </tr>\n",
       "    <tr>\n",
       "      <th>9</th>\n",
       "      <td>10</td>\n",
       "      <td>Spooky's Jump Scare Mansion</td>\n",
       "      <td>2015.0</td>\n",
       "      <td>This game with its cute little out of the wall...</td>\n",
       "      <td>1</td>\n",
       "    </tr>\n",
       "  </tbody>\n",
       "</table>\n",
       "</div>"
      ],
      "text/plain": [
       "   review_id                        title    year  \\\n",
       "0          1  Spooky's Jump Scare Mansion  2016.0   \n",
       "1          2  Spooky's Jump Scare Mansion  2016.0   \n",
       "2          3  Spooky's Jump Scare Mansion  2016.0   \n",
       "3          4  Spooky's Jump Scare Mansion  2015.0   \n",
       "4          5  Spooky's Jump Scare Mansion  2015.0   \n",
       "5          6  Spooky's Jump Scare Mansion  2015.0   \n",
       "6          7  Spooky's Jump Scare Mansion  2017.0   \n",
       "7          8  Spooky's Jump Scare Mansion  2015.0   \n",
       "8          9  Spooky's Jump Scare Mansion  2015.0   \n",
       "9         10  Spooky's Jump Scare Mansion  2015.0   \n",
       "\n",
       "                                         user_review  user_suggestion  \n",
       "0  I'm scared and hearing creepy voices.  So I'll...                1  \n",
       "1  Best game, more better than Sam Pepper's YouTu...                1  \n",
       "2  A littly iffy on the controls, but once you kn...                1  \n",
       "3  Great game, fun and colorful and all that.A si...                1  \n",
       "4  Not many games have the cute tag right next to...                1  \n",
       "5  Early Access ReviewIt's pretty cute at first, ...                1  \n",
       "6  Great game. it's a cute little horror game tha...                1  \n",
       "7  Spooky's Jump Scare Mansion is a Free Retro ma...                1  \n",
       "8  Somewhere between light hearted, happy parody ...                0  \n",
       "9  This game with its cute little out of the wall...                1  "
      ]
     },
     "execution_count": 71,
     "metadata": {},
     "output_type": "execute_result"
    }
   ],
   "source": [
    "df.head(10)"
   ]
  },
  {
   "cell_type": "code",
   "execution_count": 72,
   "id": "a380d395",
   "metadata": {},
   "outputs": [
    {
     "data": {
      "text/plain": [
       "review_id          17494\n",
       "title              17494\n",
       "year               17316\n",
       "user_review        17494\n",
       "user_suggestion    17494\n",
       "dtype: int64"
      ]
     },
     "execution_count": 72,
     "metadata": {},
     "output_type": "execute_result"
    }
   ],
   "source": [
    "df.count()"
   ]
  },
  {
   "cell_type": "code",
   "execution_count": 73,
   "id": "37afa2be",
   "metadata": {},
   "outputs": [],
   "source": [
    "df = df[['user_review', 'user_suggestion']]"
   ]
  },
  {
   "cell_type": "code",
   "execution_count": 74,
   "id": "165cc536",
   "metadata": {},
   "outputs": [
    {
     "data": {
      "text/html": [
       "<div>\n",
       "<style scoped>\n",
       "    .dataframe tbody tr th:only-of-type {\n",
       "        vertical-align: middle;\n",
       "    }\n",
       "\n",
       "    .dataframe tbody tr th {\n",
       "        vertical-align: top;\n",
       "    }\n",
       "\n",
       "    .dataframe thead th {\n",
       "        text-align: right;\n",
       "    }\n",
       "</style>\n",
       "<table border=\"1\" class=\"dataframe\">\n",
       "  <thead>\n",
       "    <tr style=\"text-align: right;\">\n",
       "      <th></th>\n",
       "      <th>user_review</th>\n",
       "      <th>user_suggestion</th>\n",
       "    </tr>\n",
       "  </thead>\n",
       "  <tbody>\n",
       "    <tr>\n",
       "      <th>0</th>\n",
       "      <td>I'm scared and hearing creepy voices.  So I'll...</td>\n",
       "      <td>1</td>\n",
       "    </tr>\n",
       "    <tr>\n",
       "      <th>1</th>\n",
       "      <td>Best game, more better than Sam Pepper's YouTu...</td>\n",
       "      <td>1</td>\n",
       "    </tr>\n",
       "    <tr>\n",
       "      <th>2</th>\n",
       "      <td>A littly iffy on the controls, but once you kn...</td>\n",
       "      <td>1</td>\n",
       "    </tr>\n",
       "    <tr>\n",
       "      <th>3</th>\n",
       "      <td>Great game, fun and colorful and all that.A si...</td>\n",
       "      <td>1</td>\n",
       "    </tr>\n",
       "    <tr>\n",
       "      <th>4</th>\n",
       "      <td>Not many games have the cute tag right next to...</td>\n",
       "      <td>1</td>\n",
       "    </tr>\n",
       "  </tbody>\n",
       "</table>\n",
       "</div>"
      ],
      "text/plain": [
       "                                         user_review  user_suggestion\n",
       "0  I'm scared and hearing creepy voices.  So I'll...                1\n",
       "1  Best game, more better than Sam Pepper's YouTu...                1\n",
       "2  A littly iffy on the controls, but once you kn...                1\n",
       "3  Great game, fun and colorful and all that.A si...                1\n",
       "4  Not many games have the cute tag right next to...                1"
      ]
     },
     "execution_count": 74,
     "metadata": {},
     "output_type": "execute_result"
    }
   ],
   "source": [
    "df.head()"
   ]
  },
  {
   "cell_type": "code",
   "execution_count": 75,
   "id": "f0f48b1e",
   "metadata": {},
   "outputs": [
    {
     "data": {
      "text/plain": [
       "user_review        17494\n",
       "user_suggestion    17494\n",
       "dtype: int64"
      ]
     },
     "execution_count": 75,
     "metadata": {},
     "output_type": "execute_result"
    }
   ],
   "source": [
    "df.count()"
   ]
  },
  {
   "cell_type": "code",
   "execution_count": 76,
   "id": "95f29e99",
   "metadata": {},
   "outputs": [
    {
     "data": {
      "text/plain": [
       "<seaborn.axisgrid.FacetGrid at 0x7fed09737220>"
      ]
     },
     "execution_count": 76,
     "metadata": {},
     "output_type": "execute_result"
    },
    {
     "data": {
      "image/png": "[encoded data removed]",
      "text/plain": [
       "<Figure size 504x504 with 1 Axes>"
      ]
     },
     "metadata": {},
     "output_type": "display_data"
    }
   ],
   "source": [
    "sns.catplot(x=\"user_suggestion\", data = df, kind = \"count\", height = 7, aspect = 1, palette = \"Blues\")\n"
   ]
  },
  {
   "cell_type": "code",
   "execution_count": 77,
   "id": "8e689cd2",
   "metadata": {},
   "outputs": [
    {
     "data": {
      "text/plain": [
       "['tok2vec', 'tagger', 'parser', 'attribute_ruler', 'lemmatizer', 'ner']"
      ]
     },
     "execution_count": 77,
     "metadata": {},
     "output_type": "execute_result"
    }
   ],
   "source": [
    "nlp = spacy.load(\"en_core_web_sm\")\n",
    "nlp.pipe_names"
   ]
  },
  {
   "cell_type": "code",
   "execution_count": 78,
   "id": "f456d06f",
   "metadata": {},
   "outputs": [],
   "source": [
    "textcat = nlp.add_pipe(\"textcat\")"
   ]
  },
  {
   "cell_type": "code",
   "execution_count": 79,
   "id": "4957de66",
   "metadata": {},
   "outputs": [
    {
     "data": {
      "text/plain": [
       "['tok2vec',\n",
       " 'tagger',\n",
       " 'parser',\n",
       " 'attribute_ruler',\n",
       " 'lemmatizer',\n",
       " 'ner',\n",
       " 'textcat']"
      ]
     },
     "execution_count": 79,
     "metadata": {},
     "output_type": "execute_result"
    }
   ],
   "source": [
    "nlp.pipe_names"
   ]
  },
  {
   "cell_type": "code",
   "execution_count": 80,
   "id": "5e1ddc98",
   "metadata": {},
   "outputs": [
    {
     "data": {
      "text/plain": [
       "1"
      ]
     },
     "execution_count": 80,
     "metadata": {},
     "output_type": "execute_result"
    }
   ],
   "source": [
    "textcat.add_label(\"RECOMMENDED\")\n",
    "textcat.add_label(\"DONT BUY\")"
   ]
  },
  {
   "cell_type": "code",
   "execution_count": 81,
   "id": "3bdf07f3",
   "metadata": {},
   "outputs": [
    {
     "data": {
      "text/plain": [
       "[(\"I'm scared and hearing creepy voices.  So I'll pause for a moment and write a review while I wait for my heart beat to return to atleast somewhat calmer times.  This game is adorable and creepy like my happy tree friends but with the graphics sceme of my childhood (but more bubble and 'clean').  Hello 1990's.What charactes there are (that isnot trying to kill me) were likable and a bit odd.  I did do a few noob things though, such as:Oh look a class room full of ghosts from dead children, lets shine my flashlight on them and stand there staring at them..Or, hmm creepy music, I'll turn around and see if I can see what's chasing me.Never before in a game have I been this afraid of finding a locked door.\",\n",
       "  1),\n",
       " (\"Best game, more better than Sam Pepper's YouTube account. 10/10What you'll need to play:A computerSome extra pants.Pros:Scary as hell.Fun.Adventure.Spooky.Did I forgot to mention that its scary as hell?You'll get more pants/briefs in your wardrobe.Time consuming if you're bored.Cons:Buying pants/briefs. You haven't downloaded it yet.\",\n",
       "  1)]"
      ]
     },
     "execution_count": 81,
     "metadata": {},
     "output_type": "execute_result"
    }
   ],
   "source": [
    "df['tuples'] = df.apply(lambda row : (row['user_review'], row['user_suggestion']), axis = 1)\n",
    "train = df['tuples'].tolist()\n",
    "train[:2]"
   ]
  },
  {
   "cell_type": "code",
   "execution_count": 82,
   "id": "1050c74c",
   "metadata": {},
   "outputs": [
    {
     "data": {
      "text/plain": [
       "[(\"I don't know what TF Is going on.... i love it chaos everywhere this is a game engineered for my species for sure! HAHAHA there is always like 2 purple guys and 200 red and blue hahaha they loose their territory in no time. Sadly all those guys who paid are op and also it was cool on the beta where everything was affordable no it takes 3 decades of grinding to get an underpowered gun damn 7/10.... yeah you heard me :(\",\n",
       "  {'cats': {'RECOMMENDED': True, \"DON'T BUY\": False}}),\n",
       " (\"CATALÀ ( BELOW ENGLISH)PROS- Equips de 7 jugadors depens menys de l'equip- no hi ha cargadors ni coses rarres (de momenet)- requisits baixosCONTRAS- partides desequilibradas- no hi ha clan wars- necessitas dos mesos pert treure un tier 10- casi no pots jugar els tancs guapos perque no els pots mantindre- Wargaming se l'hi enrefot el client- la tendencia de wargaming tendeix a enpitjorar els jocs-el no haver-hi cap artilleria hi ha molts campers, es a dir els anttanks sorten extremadament beneficiats..ENGLISHPROS- low requisites- there are only 7 players in your team , and you can play a platoon (of 3)CONTRAS- wargaming's games often get worse and worse- there's no arty so there're a lot of campers - you have to play 2 month to get a tier 10- there aren't clan wars, (at least i asked and they din't say anything....)- you can't afford many battles with tier 10/9/8 so you must play with tier 5/6.... to get money...- bad balance...- you must play with tanks that you don't like  \",\n",
       "  {'cats': {'RECOMMENDED': False, \"DON'T BUY\": True}})]"
      ]
     },
     "execution_count": 82,
     "metadata": {},
     "output_type": "execute_result"
    }
   ],
   "source": [
    "import random\n",
    "def load_data(limit = 0, split = 0.8):\n",
    "    train_data = train\n",
    "    random.shuffle(train)\n",
    "    texts,labels = zip(*train_data)\n",
    "    cats = [{\"RECOMMENDED\" : bool(y), \"DON'T BUY\" : not bool(y)} for y in labels]\n",
    "    split = int(len(train_data)*split)\n",
    "    return (texts[:split], cats[:split]), (texts[:split], cats[:split])\n",
    "n_texts = 13995\n",
    "(train_texts, train_cats), (dev_texts, dev_cats) = load_data(limit = n_texts)\n",
    "train_data = list(zip(train_texts,[{\"cats\" : cats} for cats in train_cats]))\n",
    "train_data[:2]\n",
    "   \n",
    "    "
   ]
  },
  {
   "cell_type": "code",
   "execution_count": 87,
   "id": "adbcd5e5",
   "metadata": {},
   "outputs": [],
   "source": [
    "from spacy.util import minibatch, compounding\n",
    "#number of iteration n = some integer\n",
    "n_iter = 10;\n",
    "#disabling the other components\n",
    "other_pipes = [pipe for pipe in nlp.pipe_names if pipe != \"textcat\"]\n",
    "with nlp.disable_pipes(*other_pipes): #we are only training textcat\n",
    "    optimizer = nlp.create_optimizer()\n",
    "    \n",
    "#     print(\"Training the model.....Please wait until the training is finished before moving on to the test\")\n",
    "# #training the model\n",
    "#     for i in range(n_iter):\n",
    "#         losses = {} #losses: It is a type of dictionary, it is taking an optional record of the loss during training\n",
    "#         batches = minibatch(train_data, compounding(4., 32., 1.0001))\n",
    "#         for batch in batches:\n",
    "#             texts, annotations = zip(*batch)\n",
    "#             example =[]\n",
    "#             for i in range(len(texts)):\n",
    "#                 doc = nlp.make_doc(texts[i])\n",
    "#                 example.append(Example.from_dict(doc, annotations[i]))\n",
    "#             nlp.update(example, drop = 0.2, losses = losses)"
   ]
  },
  {
   "cell_type": "code",
   "execution_count": 169,
   "id": "7a1c54f4",
   "metadata": {},
   "outputs": [],
   "source": [
    "def make_docs(data):\n",
    "    docs = []\n",
    "    for doc,label in nlp.pipe(data, as_tuples = True):\n",
    "        if label == \"pos\":\n",
    "            doc.cats[\"Positive\"] = 0\n",
    "            doc.cats[\"Negative\"] = 1\n",
    "        else:\n",
    "            doc.cats[\"Positive\"] = 1\n",
    "            doc.cats[\"Negative\"] = 0\n",
    "        docs.append(doc)\n",
    "    return(docs)"
   ]
  },
  {
   "cell_type": "code",
   "execution_count": 133,
   "id": "de1ad1ae",
   "metadata": {},
   "outputs": [],
   "source": [
    "num_texts = 13995\n",
    "train_docs = make_docs(train_data[:num_texts])\n",
    "doc_bin = DocBin(docs = train_docs)\n",
    "doc_bin.to_disk(\"./NLP/train.spacy\")\n",
    "\n",
    "valid_docs = make_docs(valid_data[:num_texts])\n",
    "doc_bin = DocBin(docs = valid_docs)\n",
    "doc_bin.to_disk(\"./NLP/valid.spacy\")\n"
   ]
  },
  {
   "cell_type": "code",
   "execution_count": 170,
   "id": "8cf533c2",
   "metadata": {},
   "outputs": [],
   "source": [
    "text = \"The game was shit\""
   ]
  },
  {
   "cell_type": "code",
   "execution_count": 171,
   "id": "1888b3ff",
   "metadata": {},
   "outputs": [],
   "source": [
    "nlp = spacy.load(\"./trained/model-best\")\n"
   ]
  },
  {
   "cell_type": "code",
   "execution_count": 172,
   "id": "20fed410",
   "metadata": {},
   "outputs": [
    {
     "name": "stdout",
     "output_type": "stream",
     "text": [
      "{'Positive': 0.5204477906227112, 'Negative': 0.4685137867927551}\n"
     ]
    }
   ],
   "source": [
    "doc = nlp(text)\n",
    "print(doc.cats)"
   ]
  },
  {
   "cell_type": "code",
   "execution_count": 137,
   "id": "3efe4af9",
   "metadata": {},
   "outputs": [
    {
     "name": "stdout",
     "output_type": "stream",
     "text": [
      "I absolutely loved the game\n"
     ]
    }
   ],
   "source": [
    "print(text)"
   ]
  },
  {
   "cell_type": "code",
   "execution_count": null,
   "id": "326381cc",
   "metadata": {},
   "outputs": [],
   "source": []
  }
 ],
 "metadata": {
  "kernelspec": {
   "display_name": "Python 3 (ipykernel)",
   "language": "python",
   "name": "python3"
  },
  "language_info": {
   "codemirror_mode": {
    "name": "ipython",
    "version": 3
   },
   "file_extension": ".py",
   "mimetype": "text/x-python",
   "name": "python",
   "nbconvert_exporter": "python",
   "pygments_lexer": "ipython3",
   "version": "3.9.12"
  }
 },
 "nbformat": 4,
 "nbformat_minor": 5
}
